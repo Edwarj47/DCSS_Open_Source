{
 "cells": [
  {
   "cell_type": "code",
   "execution_count": null,
   "id": "d14e74f1-d771-4268-a4be-54e38b48e43f",
   "metadata": {},
   "outputs": [
    {
     "name": "stdout",
     "output_type": "stream",
     "text": [
      "Requirement already satisfied: PyPDF2 in c:\\users\\campk\\anaconda3\\lib\\site-packages (3.0.1)\n",
      "Merged PDF saved to: C:\\Users\\campk\\Downloads\\2025052_830 Orangewood\\Merged_830_Orangewood.pdf\n"
     ]
    }
   ],
   "source": [
    "import os\n",
    "#!pip install PyPDF2\n",
    "from PyPDF2 import PdfMerger\n",
    "\n",
    "# Set the path to the unzipped folder\n",
    "folder_path = r\"YOUR FULL FILE PATH HERE\"\n",
    "\n",
    "# Define the two file names, in the order you want them merged\n",
    "pdf_files = [\n",
    "    \"20250520_830.pdf\",  # This order concatenates the pdfs sequentially.\n",
    "    \"2025052_830.pdf\"\n",
    "]\n",
    "\n",
    "# Create a merger object\n",
    "merger = PdfMerger()\n",
    "\n",
    "# Append the PDFs in the correct order\n",
    "for pdf in pdf_files:\n",
    "    file_path = os.path.join(folder_path, pdf)\n",
    "    merger.append(file_path)\n",
    "\n",
    "# Output file path\n",
    "output_path = os.path.join(folder_path, \"MERGED.pdf\")\n",
    "merger.write(output_path)\n",
    "merger.close()\n",
    "\n",
    "print(f\"Merged PDF saved to: {output_path}\")\n"
   ]
  },
  {
   "cell_type": "code",
   "execution_count": null,
   "id": "4e2916ab-c608-457a-9c42-886b4109f628",
   "metadata": {},
   "outputs": [],
   "source": []
  }
 ],
 "metadata": {
  "kernelspec": {
   "display_name": "Python 3 (ipykernel)",
   "language": "python",
   "name": "python3"
  },
  "language_info": {
   "codemirror_mode": {
    "name": "ipython",
    "version": 3
   },
   "file_extension": ".py",
   "mimetype": "text/x-python",
   "name": "python",
   "nbconvert_exporter": "python",
   "pygments_lexer": "ipython3",
   "version": "3.12.7"
  }
 },
 "nbformat": 4,
 "nbformat_minor": 5
}
