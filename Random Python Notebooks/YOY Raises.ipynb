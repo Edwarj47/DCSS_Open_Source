{
 "cells": [
  {
   "cell_type": "code",
   "execution_count": null,
   "id": "e71dc240",
   "metadata": {},
   "outputs": [],
   "source": [
    "#x is the starting salary number\n",
    "#y is the number of years\n",
    "#z is the compounding raise each year (e.g., 1.03 for a 3% raise)\n",
    "#a is a list of the compounding raise each year\n",
    "a = []\n",
    "def YOY(x,y,z):\n",
    "    y2 = list(range(y))\n",
    "    for i in y2:\n",
    "        x = (x*z) #z is compound interest rate\n",
    "        a.append(x)"
   ]
  },
  {
   "cell_type": "code",
   "execution_count": null,
   "id": "c3554871",
   "metadata": {},
   "outputs": [
    {
     "data": {
      "text/plain": [
       "[77250.0,\n",
       " 79567.5,\n",
       " 81954.52500000001,\n",
       " 84413.16075000001,\n",
       " 86945.55557250002,\n",
       " 89553.92223967501,\n",
       " 92240.53990686526,\n",
       " 95007.75610407122,\n",
       " 97857.98878719336,\n",
       " 100793.72845080917,\n",
       " 103817.54030433345,\n",
       " 106932.06651346346,\n",
       " 110140.02850886737,\n",
       " 113444.2293641334,\n",
       " 116847.5562450574,\n",
       " 120352.98293240913,\n",
       " 123963.5724203814,\n",
       " 127682.47959299285,\n",
       " 131512.95398078265,\n",
       " 135458.34260020615]"
      ]
     },
     "execution_count": 2,
     "metadata": {},
     "output_type": "execute_result"
    }
   ],
   "source": [
    "YOY(75000.00,20,1.03) #Starting salary is 75,000.00, the number of years is 20, and the raise is 3% (1.03)\n",
    "a"
   ]
  },
  {
   "cell_type": "code",
   "execution_count": null,
   "id": "625a76b7",
   "metadata": {},
   "outputs": [],
   "source": []
  },
  {
   "cell_type": "code",
   "execution_count": null,
   "id": "0fbd118c",
   "metadata": {},
   "outputs": [],
   "source": [
    "#Another way of doing the same thing\n",
    "\n",
    "f = []\n",
    "x = 52000\n",
    "y = list(range(10))\n",
    "for i in y:\n",
    "    x = (x*1.05)\n",
    "    f.append(x)"
   ]
  },
  {
   "cell_type": "code",
   "execution_count": 31,
   "id": "79217746",
   "metadata": {},
   "outputs": [
    {
     "data": {
      "text/plain": [
       "[54600.0,\n",
       " 57330.0,\n",
       " 60196.5,\n",
       " 63206.325000000004,\n",
       " 66366.64125,\n",
       " 69684.9733125,\n",
       " 73169.221978125,\n",
       " 76827.68307703125,\n",
       " 80669.06723088282,\n",
       " 84702.52059242697]"
      ]
     },
     "execution_count": 31,
     "metadata": {},
     "output_type": "execute_result"
    }
   ],
   "source": [
    "f"
   ]
  },
  {
   "cell_type": "code",
   "execution_count": null,
   "id": "d012a247",
   "metadata": {},
   "outputs": [],
   "source": []
  }
 ],
 "metadata": {
  "kernelspec": {
   "display_name": "base",
   "language": "python",
   "name": "python3"
  },
  "language_info": {
   "codemirror_mode": {
    "name": "ipython",
    "version": 3
   },
   "file_extension": ".py",
   "mimetype": "text/x-python",
   "name": "python",
   "nbconvert_exporter": "python",
   "pygments_lexer": "ipython3",
   "version": "3.12.7"
  }
 },
 "nbformat": 4,
 "nbformat_minor": 5
}
